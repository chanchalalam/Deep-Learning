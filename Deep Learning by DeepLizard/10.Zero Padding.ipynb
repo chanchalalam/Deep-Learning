{
 "cells": [
  {
   "cell_type": "code",
   "execution_count": null,
   "id": "415e3900",
   "metadata": {},
   "outputs": [],
   "source": [
    "import keras from keras.models\n",
    "import Sequential from keras.layers \n",
    "import Activation from keras.layers.core import Dense, Flatten\n",
    "from keras.layers.convolutional import *\n",
    "from keras.layers.pooling import *"
   ]
  },
  {
   "cell_type": "code",
   "execution_count": null,
   "id": "9828f582",
   "metadata": {},
   "outputs": [],
   "source": [
    "model valid = Sequential([\n",
    "        Dense (16, activation='relu', input_shape= (20,20, 3)),\n",
    "        Conv2D (32, kernel_size=(3, 3), activation='relu', padding= 'valid'),\n",
    "        Conv2D (64, kernel_size=(5, 5), activation='relu' : paddings 'valid'),\n",
    "        Conv2D (128, kernel_size= (7, 7), activation='relu', padding= 'valid'),\n",
    "        Flatten(),\n",
    "        Dense(2,activation='softmax'),\n",
    "])"
   ]
  },
  {
   "cell_type": "code",
   "execution_count": null,
   "id": "2c59f520",
   "metadata": {},
   "outputs": [],
   "source": [
    "model_valid.summary()"
   ]
  }
 ],
 "metadata": {
  "hide_input": false,
  "kernelspec": {
   "display_name": "Python 3 (ipykernel)",
   "language": "python",
   "name": "python3"
  },
  "language_info": {
   "codemirror_mode": {
    "name": "ipython",
    "version": 3
   },
   "file_extension": ".py",
   "mimetype": "text/x-python",
   "name": "python",
   "nbconvert_exporter": "python",
   "pygments_lexer": "ipython3",
   "version": "3.9.17"
  },
  "toc": {
   "base_numbering": 1,
   "nav_menu": {},
   "number_sections": true,
   "sideBar": true,
   "skip_h1_title": false,
   "title_cell": "Table of Contents",
   "title_sidebar": "Contents",
   "toc_cell": false,
   "toc_position": {},
   "toc_section_display": true,
   "toc_window_display": false
  },
  "varInspector": {
   "cols": {
    "lenName": 16,
    "lenType": 16,
    "lenVar": 40
   },
   "kernels_config": {
    "python": {
     "delete_cmd_postfix": "",
     "delete_cmd_prefix": "del ",
     "library": "var_list.py",
     "varRefreshCmd": "print(var_dic_list())"
    },
    "r": {
     "delete_cmd_postfix": ") ",
     "delete_cmd_prefix": "rm(",
     "library": "var_list.r",
     "varRefreshCmd": "cat(var_dic_list()) "
    }
   },
   "types_to_exclude": [
    "module",
    "function",
    "builtin_function_or_method",
    "instance",
    "_Feature"
   ],
   "window_display": false
  }
 },
 "nbformat": 4,
 "nbformat_minor": 5
}
