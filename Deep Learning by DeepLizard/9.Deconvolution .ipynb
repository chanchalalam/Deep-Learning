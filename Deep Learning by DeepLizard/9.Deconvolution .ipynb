{
 "cells": [
  {
   "cell_type": "code",
   "execution_count": null,
   "id": "2b73a784",
   "metadata": {},
   "outputs": [],
   "source": [
    "import tensorflow as tf\n",
    "import numpy as np\n",
    "import matplotlib.pyplot as plt\n",
    "\n",
    "# Load pre-trained CNN model\n",
    "model = tf.keras.applications.VGG16(weights='imagenet', include_top=False)\n",
    "\n",
    "# Get the first convolutional layer\n",
    "conv_layer = model.get_layer('block1_conv1')\n",
    "\n",
    "# Pick a filter to visualize\n",
    "filter_index = 0\n",
    "\n",
    "# Generate an input image that activates the filter\n",
    "input_image = np.random.random((1, 224, 224, 3))\n",
    "while True:\n",
    "    activation = filter_activation(input_image, conv_layer, filter_index)\n",
    "    if activation.mean() > 0.5:\n",
    "        break\n",
    "    input_image = np.random.random((1, 224, 224, 3))\n",
    "\n",
    "# Define a function to calculate the output of a layer given its input\n",
    "def layer_output(input_image, layer):\n",
    "    # Create a new model that outputs the output of the target layer given its input\n",
    "    new_model = tf.keras.models.Model(inputs=model.inputs, outputs=layer.output)\n",
    "    # Calculate the output of the layer\n",
    "    output = new_model.predict(input_image)\n",
    "    return output\n",
    "\n",
    "# Define a function to reverse the convolutional operation\n",
    "def deconvolve(output, weights):\n",
    "    # Transpose the weights and flip them along the spatial dimensions\n",
    "    flipped_weights = np.transpose(weights, (0, 1, 3, 2))\n",
    "    flipped_weights = np.flip(flipped_weights, axis=1)\n",
    "    flipped_weights = np.flip(flipped_weights, axis=2)\n",
    "    # Pad the output with zeros to match the shape of the deconvolved output\n",
    "    output_shape = (1,) + tuple(flipped_weights.shape[:3])\n",
    "    output_padded = np.zeros(output_shape)\n",
    "    output_padded[:, :output.shape[1], :output.shape[2], :] = output\n",
    "    # Perform the deconvolution\n",
    "    deconvolved_output = tf.nn.conv2d_transpose(output_padded, flipped_weights, output_shape, (1, 1), 'SAME')\n",
    "    return deconvolved_output.numpy()\n",
    "\n",
    "# Define a function to visualize the filters in a layer\n",
    "def visualize_filters(layer):\n",
    "    # Get the weights of the layer\n",
    "    weights = layer.get_weights()[0]\n",
    "    # Create a figure to display the filters\n",
    "    fig, axs = plt.subplots(nrows=8, ncols=8, figsize=(10, 10))\n",
    "    # Loop over the filters in the layer\n",
    "    for i in range(weights.shape[3]):\n",
    "        # Generate an image that activates the filter\n",
    "        input_image = np.random.random((1, 224, 224, 3))\n",
    "        while True:\n",
    "            activation = filter_activation(input_image, layer, i)\n",
    "            if activation.mean() > 0.5:\n",
    "                break\n",
    "            input_image = np.random.random((1, 224, 224, 3))\n",
    "        # Reverse the convolutional operation to generate an image that matches the activation of the filter\n",
    "        output = layer_output(input_image, layer)\n",
    "        deconvolved_output = deconvolve(output, weights[:, :, :, i:i+1])\n",
    "        # Rescale the image to [0, 1] range and display it\n",
    "        axs[i // 8, i % 8].imshow(deconvolved_output[0, :, :, 0], cmap='gray')\n",
    "        axs[i // 8, i % 8].axis('off')\n",
    "    plt.show()\n",
    "\n",
    "# Visualize the filters in the first convolutional layer\n",
    "visualize_filters(conv_layer)"
   ]
  }
 ],
 "metadata": {
  "hide_input": false,
  "kernelspec": {
   "display_name": "Python 3 (ipykernel)",
   "language": "python",
   "name": "python3"
  },
  "language_info": {
   "codemirror_mode": {
    "name": "ipython",
    "version": 3
   },
   "file_extension": ".py",
   "mimetype": "text/x-python",
   "name": "python",
   "nbconvert_exporter": "python",
   "pygments_lexer": "ipython3",
   "version": "3.9.17"
  },
  "toc": {
   "base_numbering": 1,
   "nav_menu": {},
   "number_sections": true,
   "sideBar": true,
   "skip_h1_title": false,
   "title_cell": "Table of Contents",
   "title_sidebar": "Contents",
   "toc_cell": false,
   "toc_position": {},
   "toc_section_display": true,
   "toc_window_display": false
  },
  "varInspector": {
   "cols": {
    "lenName": 16,
    "lenType": 16,
    "lenVar": 40
   },
   "kernels_config": {
    "python": {
     "delete_cmd_postfix": "",
     "delete_cmd_prefix": "del ",
     "library": "var_list.py",
     "varRefreshCmd": "print(var_dic_list())"
    },
    "r": {
     "delete_cmd_postfix": ") ",
     "delete_cmd_prefix": "rm(",
     "library": "var_list.r",
     "varRefreshCmd": "cat(var_dic_list()) "
    }
   },
   "types_to_exclude": [
    "module",
    "function",
    "builtin_function_or_method",
    "instance",
    "_Feature"
   ],
   "window_display": false
  }
 },
 "nbformat": 4,
 "nbformat_minor": 5
}
