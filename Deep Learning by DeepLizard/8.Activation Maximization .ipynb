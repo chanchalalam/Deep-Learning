{
 "cells": [
  {
   "cell_type": "code",
   "execution_count": null,
   "id": "1da0d81e",
   "metadata": {},
   "outputs": [],
   "source": [
    "import tensorflow as tf\n",
    "import numpy as np\n",
    "import matplotlib.pyplot as plt\n",
    "\n",
    "# Load pre-trained CNN model\n",
    "model = tf.keras.applications.VGG16(weights='imagenet', include_top=False)\n",
    "\n",
    "# Get the first convolutional layer\n",
    "conv_layer = model.get_layer('block1_conv1')\n",
    "\n",
    "# Pick a filter to visualize\n",
    "filter_index = 0\n",
    "\n",
    "# Generate a random image\n",
    "input_image = np.random.random((1, 224, 224, 3))\n",
    "\n",
    "# Define a function to calculate the activation of a filter\n",
    "def filter_activation(input_image, conv_layer, filter_index):\n",
    "    # Create a new model that outputs the activation of the target filter\n",
    "    new_model = tf.keras.models.Model(inputs=model.inputs, outputs=conv_layer.output[:, :, :, filter_index])\n",
    "    # Calculate the activation of the filter\n",
    "    activation = new_model.predict(input_image)\n",
    "    return activation\n",
    "\n",
    "# Define a function to modify the input image to maximize the activation of a filter\n",
    "def maximize_activation(input_image, conv_layer, filter_index, iterations=20, step_size=1.0):\n",
    "    for i in range(iterations):\n",
    "        # Calculate the activation of the filter\n",
    "        activation = filter_activation(input_image, conv_layer, filter_index)\n",
    "        # Calculate the gradient of the activation with respect to the input image\n",
    "        gradient = tf.image.gradients(activation, input_image)[0]\n",
    "        # Normalize the gradient\n",
    "        gradient /= (tf.sqrt(tf.reduce_mean(tf.square(gradient))) + 1e-5)\n",
    "        # Modify the input image to increase the activation of the filter\n",
    "        input_image += gradient * step_size\n",
    "    return input_image\n",
    "\n",
    "# Visualize the filter\n",
    "activation = filter_activation(input_image, conv_layer, filter_index)\n",
    "plt.imshow(activation[0, :, :, 0], cmap='gray')\n",
    "plt.show()\n",
    "\n",
    "# Visualize the modified input image\n",
    "modified_image = maximize_activation(input_image, conv_layer, filter_index)\n",
    "plt.imshow(modified_image[0])\n",
    "plt.show()"
   ]
  }
 ],
 "metadata": {
  "hide_input": false,
  "kernelspec": {
   "display_name": "Python 3 (ipykernel)",
   "language": "python",
   "name": "python3"
  },
  "language_info": {
   "codemirror_mode": {
    "name": "ipython",
    "version": 3
   },
   "file_extension": ".py",
   "mimetype": "text/x-python",
   "name": "python",
   "nbconvert_exporter": "python",
   "pygments_lexer": "ipython3",
   "version": "3.9.17"
  },
  "toc": {
   "base_numbering": 1,
   "nav_menu": {},
   "number_sections": true,
   "sideBar": true,
   "skip_h1_title": false,
   "title_cell": "Table of Contents",
   "title_sidebar": "Contents",
   "toc_cell": false,
   "toc_position": {},
   "toc_section_display": true,
   "toc_window_display": false
  },
  "varInspector": {
   "cols": {
    "lenName": 16,
    "lenType": 16,
    "lenVar": 40
   },
   "kernels_config": {
    "python": {
     "delete_cmd_postfix": "",
     "delete_cmd_prefix": "del ",
     "library": "var_list.py",
     "varRefreshCmd": "print(var_dic_list())"
    },
    "r": {
     "delete_cmd_postfix": ") ",
     "delete_cmd_prefix": "rm(",
     "library": "var_list.r",
     "varRefreshCmd": "cat(var_dic_list()) "
    }
   },
   "types_to_exclude": [
    "module",
    "function",
    "builtin_function_or_method",
    "instance",
    "_Feature"
   ],
   "window_display": false
  }
 },
 "nbformat": 4,
 "nbformat_minor": 5
}
